{
  "nbformat": 4,
  "nbformat_minor": 0,
  "metadata": {
    "colab": {
      "name": "MLP.ipynb",
      "provenance": [],
      "authorship_tag": "ABX9TyNcsRZT6mq0lSHVo6tY8IBf",
      "include_colab_link": true
    },
    "kernelspec": {
      "name": "python3",
      "display_name": "Python 3"
    },
    "language_info": {
      "name": "python"
    },
    "accelerator": "GPU"
  },
  "cells": [
    {
      "cell_type": "markdown",
      "metadata": {
        "id": "view-in-github",
        "colab_type": "text"
      },
      "source": [
        "<a href=\"https://colab.research.google.com/github/lbstne/PyCast/blob/master/MLP.ipynb\" target=\"_parent\"><img src=\"https://colab.research.google.com/assets/colab-badge.svg\" alt=\"Open In Colab\"/></a>"
      ]
    },
    {
      "cell_type": "markdown",
      "source": [
        "# Imports and Setup"
      ],
      "metadata": {
        "id": "9XREH7ezOu-p"
      }
    },
    {
      "cell_type": "code",
      "source": [
        "# download dependencies\n",
        "!pip install tensorflow numpy pandas keras"
      ],
      "metadata": {
        "colab": {
          "base_uri": "https://localhost:8080/"
        },
        "id": "mcSbzaLBPeWh",
        "outputId": "b8df5608-f493-4cd0-e0e6-5e937d598ecf"
      },
      "execution_count": 1,
      "outputs": [
        {
          "output_type": "stream",
          "name": "stdout",
          "text": [
            "Looking in indexes: https://pypi.org/simple, https://us-python.pkg.dev/colab-wheels/public/simple/\n",
            "Requirement already satisfied: tensorflow in /usr/local/lib/python3.7/dist-packages (2.8.2+zzzcolab20220527125636)\n",
            "Requirement already satisfied: numpy in /usr/local/lib/python3.7/dist-packages (1.21.6)\n",
            "Requirement already satisfied: pandas in /usr/local/lib/python3.7/dist-packages (1.3.5)\n",
            "Requirement already satisfied: keras in /usr/local/lib/python3.7/dist-packages (2.8.0)\n",
            "Requirement already satisfied: setuptools in /usr/local/lib/python3.7/dist-packages (from tensorflow) (57.4.0)\n",
            "Requirement already satisfied: termcolor>=1.1.0 in /usr/local/lib/python3.7/dist-packages (from tensorflow) (1.1.0)\n",
            "Requirement already satisfied: absl-py>=0.4.0 in /usr/local/lib/python3.7/dist-packages (from tensorflow) (1.0.0)\n",
            "Requirement already satisfied: libclang>=9.0.1 in /usr/local/lib/python3.7/dist-packages (from tensorflow) (14.0.1)\n",
            "Requirement already satisfied: flatbuffers>=1.12 in /usr/local/lib/python3.7/dist-packages (from tensorflow) (2.0)\n",
            "Requirement already satisfied: wrapt>=1.11.0 in /usr/local/lib/python3.7/dist-packages (from tensorflow) (1.14.1)\n",
            "Requirement already satisfied: grpcio<2.0,>=1.24.3 in /usr/local/lib/python3.7/dist-packages (from tensorflow) (1.46.3)\n",
            "Requirement already satisfied: tensorflow-io-gcs-filesystem>=0.23.1 in /usr/local/lib/python3.7/dist-packages (from tensorflow) (0.26.0)\n",
            "Requirement already satisfied: keras-preprocessing>=1.1.1 in /usr/local/lib/python3.7/dist-packages (from tensorflow) (1.1.2)\n",
            "Requirement already satisfied: h5py>=2.9.0 in /usr/local/lib/python3.7/dist-packages (from tensorflow) (3.1.0)\n",
            "Requirement already satisfied: tensorboard<2.9,>=2.8 in /usr/local/lib/python3.7/dist-packages (from tensorflow) (2.8.0)\n",
            "Requirement already satisfied: gast>=0.2.1 in /usr/local/lib/python3.7/dist-packages (from tensorflow) (0.5.3)\n",
            "Requirement already satisfied: opt-einsum>=2.3.2 in /usr/local/lib/python3.7/dist-packages (from tensorflow) (3.3.0)\n",
            "Requirement already satisfied: astunparse>=1.6.0 in /usr/local/lib/python3.7/dist-packages (from tensorflow) (1.6.3)\n",
            "Requirement already satisfied: protobuf<3.20,>=3.9.2 in /usr/local/lib/python3.7/dist-packages (from tensorflow) (3.17.3)\n",
            "Requirement already satisfied: tensorflow-estimator<2.9,>=2.8 in /usr/local/lib/python3.7/dist-packages (from tensorflow) (2.8.0)\n",
            "Requirement already satisfied: typing-extensions>=3.6.6 in /usr/local/lib/python3.7/dist-packages (from tensorflow) (4.2.0)\n",
            "Requirement already satisfied: google-pasta>=0.1.1 in /usr/local/lib/python3.7/dist-packages (from tensorflow) (0.2.0)\n",
            "Requirement already satisfied: six>=1.12.0 in /usr/local/lib/python3.7/dist-packages (from tensorflow) (1.15.0)\n",
            "Requirement already satisfied: wheel<1.0,>=0.23.0 in /usr/local/lib/python3.7/dist-packages (from astunparse>=1.6.0->tensorflow) (0.37.1)\n",
            "Requirement already satisfied: cached-property in /usr/local/lib/python3.7/dist-packages (from h5py>=2.9.0->tensorflow) (1.5.2)\n",
            "Requirement already satisfied: markdown>=2.6.8 in /usr/local/lib/python3.7/dist-packages (from tensorboard<2.9,>=2.8->tensorflow) (3.3.7)\n",
            "Requirement already satisfied: tensorboard-data-server<0.7.0,>=0.6.0 in /usr/local/lib/python3.7/dist-packages (from tensorboard<2.9,>=2.8->tensorflow) (0.6.1)\n",
            "Requirement already satisfied: werkzeug>=0.11.15 in /usr/local/lib/python3.7/dist-packages (from tensorboard<2.9,>=2.8->tensorflow) (1.0.1)\n",
            "Requirement already satisfied: requests<3,>=2.21.0 in /usr/local/lib/python3.7/dist-packages (from tensorboard<2.9,>=2.8->tensorflow) (2.23.0)\n",
            "Requirement already satisfied: tensorboard-plugin-wit>=1.6.0 in /usr/local/lib/python3.7/dist-packages (from tensorboard<2.9,>=2.8->tensorflow) (1.8.1)\n",
            "Requirement already satisfied: google-auth-oauthlib<0.5,>=0.4.1 in /usr/local/lib/python3.7/dist-packages (from tensorboard<2.9,>=2.8->tensorflow) (0.4.6)\n",
            "Requirement already satisfied: google-auth<3,>=1.6.3 in /usr/local/lib/python3.7/dist-packages (from tensorboard<2.9,>=2.8->tensorflow) (1.35.0)\n",
            "Requirement already satisfied: rsa<5,>=3.1.4 in /usr/local/lib/python3.7/dist-packages (from google-auth<3,>=1.6.3->tensorboard<2.9,>=2.8->tensorflow) (4.8)\n",
            "Requirement already satisfied: pyasn1-modules>=0.2.1 in /usr/local/lib/python3.7/dist-packages (from google-auth<3,>=1.6.3->tensorboard<2.9,>=2.8->tensorflow) (0.2.8)\n",
            "Requirement already satisfied: cachetools<5.0,>=2.0.0 in /usr/local/lib/python3.7/dist-packages (from google-auth<3,>=1.6.3->tensorboard<2.9,>=2.8->tensorflow) (4.2.4)\n",
            "Requirement already satisfied: requests-oauthlib>=0.7.0 in /usr/local/lib/python3.7/dist-packages (from google-auth-oauthlib<0.5,>=0.4.1->tensorboard<2.9,>=2.8->tensorflow) (1.3.1)\n",
            "Requirement already satisfied: importlib-metadata>=4.4 in /usr/local/lib/python3.7/dist-packages (from markdown>=2.6.8->tensorboard<2.9,>=2.8->tensorflow) (4.11.4)\n",
            "Requirement already satisfied: zipp>=0.5 in /usr/local/lib/python3.7/dist-packages (from importlib-metadata>=4.4->markdown>=2.6.8->tensorboard<2.9,>=2.8->tensorflow) (3.8.0)\n",
            "Requirement already satisfied: pyasn1<0.5.0,>=0.4.6 in /usr/local/lib/python3.7/dist-packages (from pyasn1-modules>=0.2.1->google-auth<3,>=1.6.3->tensorboard<2.9,>=2.8->tensorflow) (0.4.8)\n",
            "Requirement already satisfied: idna<3,>=2.5 in /usr/local/lib/python3.7/dist-packages (from requests<3,>=2.21.0->tensorboard<2.9,>=2.8->tensorflow) (2.10)\n",
            "Requirement already satisfied: urllib3!=1.25.0,!=1.25.1,<1.26,>=1.21.1 in /usr/local/lib/python3.7/dist-packages (from requests<3,>=2.21.0->tensorboard<2.9,>=2.8->tensorflow) (1.24.3)\n",
            "Requirement already satisfied: certifi>=2017.4.17 in /usr/local/lib/python3.7/dist-packages (from requests<3,>=2.21.0->tensorboard<2.9,>=2.8->tensorflow) (2022.5.18.1)\n",
            "Requirement already satisfied: chardet<4,>=3.0.2 in /usr/local/lib/python3.7/dist-packages (from requests<3,>=2.21.0->tensorboard<2.9,>=2.8->tensorflow) (3.0.4)\n",
            "Requirement already satisfied: oauthlib>=3.0.0 in /usr/local/lib/python3.7/dist-packages (from requests-oauthlib>=0.7.0->google-auth-oauthlib<0.5,>=0.4.1->tensorboard<2.9,>=2.8->tensorflow) (3.2.0)\n",
            "Requirement already satisfied: pytz>=2017.3 in /usr/local/lib/python3.7/dist-packages (from pandas) (2022.1)\n",
            "Requirement already satisfied: python-dateutil>=2.7.3 in /usr/local/lib/python3.7/dist-packages (from pandas) (2.8.2)\n"
          ]
        }
      ]
    },
    {
      "cell_type": "code",
      "execution_count": 2,
      "metadata": {
        "id": "-p_v5ImBOGLd"
      },
      "outputs": [],
      "source": [
        "# Imports\n",
        "import numpy as np\n",
        "\n",
        "from tensorflow.keras import optimizers\n",
        "from keras import models\n",
        "from keras import layers\n",
        "from tensorflow.keras.utils import to_categorical\n",
        "\n",
        "from sklearn import datasets\n",
        "from sklearn.model_selection import train_test_split"
      ]
    },
    {
      "cell_type": "markdown",
      "source": [
        "# Load Data"
      ],
      "metadata": {
        "id": "G6MgLXSbTnQg"
      }
    },
    {
      "cell_type": "markdown",
      "source": [
        "## Find Dataset Here: \n",
        "https://www.kaggle.com/datasets/arshid/iris-flower-dataset?select=IRIS.csv"
      ],
      "metadata": {
        "id": "KbdqLz7PjZz0"
      }
    },
    {
      "cell_type": "code",
      "source": [
        "iris_dataset = datasets.load_iris()\n",
        "\n",
        "X = iris_dataset.data\n",
        "y = iris_dataset.target\n",
        "\n",
        "\n",
        "for num in iris_dataset['data']:\n",
        "  num *= 10\n",
        "\n",
        "iris_dataset['data'] = iris_dataset['data'].astype(int)"
      ],
      "metadata": {
        "id": "LD-0wuOXOiwM"
      },
      "execution_count": 3,
      "outputs": []
    },
    {
      "cell_type": "code",
      "source": [
        "iris_dataset"
      ],
      "metadata": {
        "colab": {
          "base_uri": "https://localhost:8080/"
        },
        "id": "Kei4ePI6blZ8",
        "outputId": "d8f0ab87-a93e-4653-e0d6-ca7fe8ad121c"
      },
      "execution_count": 4,
      "outputs": [
        {
          "output_type": "execute_result",
          "data": {
            "text/plain": [
              "{'DESCR': '.. _iris_dataset:\\n\\nIris plants dataset\\n--------------------\\n\\n**Data Set Characteristics:**\\n\\n    :Number of Instances: 150 (50 in each of three classes)\\n    :Number of Attributes: 4 numeric, predictive attributes and the class\\n    :Attribute Information:\\n        - sepal length in cm\\n        - sepal width in cm\\n        - petal length in cm\\n        - petal width in cm\\n        - class:\\n                - Iris-Setosa\\n                - Iris-Versicolour\\n                - Iris-Virginica\\n                \\n    :Summary Statistics:\\n\\n    ============== ==== ==== ======= ===== ====================\\n                    Min  Max   Mean    SD   Class Correlation\\n    ============== ==== ==== ======= ===== ====================\\n    sepal length:   4.3  7.9   5.84   0.83    0.7826\\n    sepal width:    2.0  4.4   3.05   0.43   -0.4194\\n    petal length:   1.0  6.9   3.76   1.76    0.9490  (high!)\\n    petal width:    0.1  2.5   1.20   0.76    0.9565  (high!)\\n    ============== ==== ==== ======= ===== ====================\\n\\n    :Missing Attribute Values: None\\n    :Class Distribution: 33.3% for each of 3 classes.\\n    :Creator: R.A. Fisher\\n    :Donor: Michael Marshall (MARSHALL%PLU@io.arc.nasa.gov)\\n    :Date: July, 1988\\n\\nThe famous Iris database, first used by Sir R.A. Fisher. The dataset is taken\\nfrom Fisher\\'s paper. Note that it\\'s the same as in R, but not as in the UCI\\nMachine Learning Repository, which has two wrong data points.\\n\\nThis is perhaps the best known database to be found in the\\npattern recognition literature.  Fisher\\'s paper is a classic in the field and\\nis referenced frequently to this day.  (See Duda & Hart, for example.)  The\\ndata set contains 3 classes of 50 instances each, where each class refers to a\\ntype of iris plant.  One class is linearly separable from the other 2; the\\nlatter are NOT linearly separable from each other.\\n\\n.. topic:: References\\n\\n   - Fisher, R.A. \"The use of multiple measurements in taxonomic problems\"\\n     Annual Eugenics, 7, Part II, 179-188 (1936); also in \"Contributions to\\n     Mathematical Statistics\" (John Wiley, NY, 1950).\\n   - Duda, R.O., & Hart, P.E. (1973) Pattern Classification and Scene Analysis.\\n     (Q327.D83) John Wiley & Sons.  ISBN 0-471-22361-1.  See page 218.\\n   - Dasarathy, B.V. (1980) \"Nosing Around the Neighborhood: A New System\\n     Structure and Classification Rule for Recognition in Partially Exposed\\n     Environments\".  IEEE Transactions on Pattern Analysis and Machine\\n     Intelligence, Vol. PAMI-2, No. 1, 67-71.\\n   - Gates, G.W. (1972) \"The Reduced Nearest Neighbor Rule\".  IEEE Transactions\\n     on Information Theory, May 1972, 431-433.\\n   - See also: 1988 MLC Proceedings, 54-64.  Cheeseman et al\"s AUTOCLASS II\\n     conceptual clustering system finds 3 classes in the data.\\n   - Many, many more ...',\n",
              " 'data': array([[51, 35, 14,  2],\n",
              "        [49, 30, 14,  2],\n",
              "        [47, 32, 13,  2],\n",
              "        [46, 31, 15,  2],\n",
              "        [50, 36, 14,  2],\n",
              "        [54, 39, 17,  4],\n",
              "        [46, 34, 14,  3],\n",
              "        [50, 34, 15,  2],\n",
              "        [44, 29, 14,  2],\n",
              "        [49, 31, 15,  1],\n",
              "        [54, 37, 15,  2],\n",
              "        [48, 34, 16,  2],\n",
              "        [48, 30, 14,  1],\n",
              "        [43, 30, 11,  1],\n",
              "        [58, 40, 12,  2],\n",
              "        [57, 44, 15,  4],\n",
              "        [54, 39, 13,  4],\n",
              "        [51, 35, 14,  3],\n",
              "        [57, 38, 17,  3],\n",
              "        [51, 38, 15,  3],\n",
              "        [54, 34, 17,  2],\n",
              "        [51, 37, 15,  4],\n",
              "        [46, 36, 10,  2],\n",
              "        [51, 33, 17,  5],\n",
              "        [48, 34, 19,  2],\n",
              "        [50, 30, 16,  2],\n",
              "        [50, 34, 16,  4],\n",
              "        [52, 35, 15,  2],\n",
              "        [52, 34, 14,  2],\n",
              "        [47, 32, 16,  2],\n",
              "        [48, 31, 16,  2],\n",
              "        [54, 34, 15,  4],\n",
              "        [52, 41, 15,  1],\n",
              "        [55, 42, 14,  2],\n",
              "        [49, 31, 15,  2],\n",
              "        [50, 32, 12,  2],\n",
              "        [55, 35, 13,  2],\n",
              "        [49, 36, 14,  1],\n",
              "        [44, 30, 13,  2],\n",
              "        [51, 34, 15,  2],\n",
              "        [50, 35, 13,  3],\n",
              "        [45, 23, 13,  3],\n",
              "        [44, 32, 13,  2],\n",
              "        [50, 35, 16,  6],\n",
              "        [51, 38, 19,  4],\n",
              "        [48, 30, 14,  3],\n",
              "        [51, 38, 16,  2],\n",
              "        [46, 32, 14,  2],\n",
              "        [53, 37, 15,  2],\n",
              "        [50, 33, 14,  2],\n",
              "        [70, 32, 47, 14],\n",
              "        [64, 32, 45, 15],\n",
              "        [69, 31, 49, 15],\n",
              "        [55, 23, 40, 13],\n",
              "        [65, 28, 46, 15],\n",
              "        [57, 28, 45, 13],\n",
              "        [63, 33, 47, 16],\n",
              "        [49, 24, 33, 10],\n",
              "        [66, 29, 46, 13],\n",
              "        [52, 27, 39, 14],\n",
              "        [50, 20, 35, 10],\n",
              "        [59, 30, 42, 15],\n",
              "        [60, 22, 40, 10],\n",
              "        [61, 29, 47, 14],\n",
              "        [56, 29, 36, 13],\n",
              "        [67, 31, 44, 14],\n",
              "        [56, 30, 45, 15],\n",
              "        [58, 27, 41, 10],\n",
              "        [62, 22, 45, 15],\n",
              "        [56, 25, 39, 11],\n",
              "        [59, 32, 48, 18],\n",
              "        [61, 28, 40, 13],\n",
              "        [63, 25, 49, 15],\n",
              "        [61, 28, 47, 12],\n",
              "        [64, 29, 43, 13],\n",
              "        [66, 30, 44, 14],\n",
              "        [68, 28, 48, 14],\n",
              "        [67, 30, 50, 17],\n",
              "        [60, 29, 45, 15],\n",
              "        [57, 26, 35, 10],\n",
              "        [55, 24, 38, 11],\n",
              "        [55, 24, 37, 10],\n",
              "        [58, 27, 39, 12],\n",
              "        [60, 27, 51, 16],\n",
              "        [54, 30, 45, 15],\n",
              "        [60, 34, 45, 16],\n",
              "        [67, 31, 47, 15],\n",
              "        [63, 23, 44, 13],\n",
              "        [56, 30, 41, 13],\n",
              "        [55, 25, 40, 13],\n",
              "        [55, 26, 44, 12],\n",
              "        [61, 30, 46, 14],\n",
              "        [58, 26, 40, 12],\n",
              "        [50, 23, 33, 10],\n",
              "        [56, 27, 42, 13],\n",
              "        [57, 30, 42, 12],\n",
              "        [57, 29, 42, 13],\n",
              "        [62, 29, 43, 13],\n",
              "        [51, 25, 30, 11],\n",
              "        [57, 28, 41, 13],\n",
              "        [63, 33, 60, 25],\n",
              "        [58, 27, 51, 19],\n",
              "        [71, 30, 59, 21],\n",
              "        [63, 29, 56, 18],\n",
              "        [65, 30, 58, 22],\n",
              "        [76, 30, 66, 21],\n",
              "        [49, 25, 45, 17],\n",
              "        [73, 29, 63, 18],\n",
              "        [67, 25, 58, 18],\n",
              "        [72, 36, 61, 25],\n",
              "        [65, 32, 51, 20],\n",
              "        [64, 27, 53, 19],\n",
              "        [68, 30, 55, 21],\n",
              "        [57, 25, 50, 20],\n",
              "        [58, 28, 51, 24],\n",
              "        [64, 32, 53, 23],\n",
              "        [65, 30, 55, 18],\n",
              "        [77, 38, 67, 22],\n",
              "        [77, 26, 69, 23],\n",
              "        [60, 22, 50, 15],\n",
              "        [69, 32, 57, 23],\n",
              "        [56, 28, 49, 20],\n",
              "        [77, 28, 67, 20],\n",
              "        [63, 27, 49, 18],\n",
              "        [67, 33, 57, 21],\n",
              "        [72, 32, 60, 18],\n",
              "        [62, 28, 48, 18],\n",
              "        [61, 30, 49, 18],\n",
              "        [64, 28, 56, 21],\n",
              "        [72, 30, 58, 16],\n",
              "        [74, 28, 61, 19],\n",
              "        [79, 38, 64, 20],\n",
              "        [64, 28, 56, 22],\n",
              "        [63, 28, 51, 15],\n",
              "        [61, 26, 56, 14],\n",
              "        [77, 30, 61, 23],\n",
              "        [63, 34, 56, 24],\n",
              "        [64, 31, 55, 18],\n",
              "        [60, 30, 48, 18],\n",
              "        [69, 31, 54, 21],\n",
              "        [67, 31, 56, 24],\n",
              "        [69, 31, 51, 23],\n",
              "        [58, 27, 51, 19],\n",
              "        [68, 32, 59, 23],\n",
              "        [67, 33, 57, 25],\n",
              "        [67, 30, 52, 23],\n",
              "        [63, 25, 50, 19],\n",
              "        [65, 30, 52, 20],\n",
              "        [62, 34, 54, 23],\n",
              "        [59, 30, 51, 18]]),\n",
              " 'data_module': 'sklearn.datasets.data',\n",
              " 'feature_names': ['sepal length (cm)',\n",
              "  'sepal width (cm)',\n",
              "  'petal length (cm)',\n",
              "  'petal width (cm)'],\n",
              " 'filename': 'iris.csv',\n",
              " 'frame': None,\n",
              " 'target': array([0, 0, 0, 0, 0, 0, 0, 0, 0, 0, 0, 0, 0, 0, 0, 0, 0, 0, 0, 0, 0, 0,\n",
              "        0, 0, 0, 0, 0, 0, 0, 0, 0, 0, 0, 0, 0, 0, 0, 0, 0, 0, 0, 0, 0, 0,\n",
              "        0, 0, 0, 0, 0, 0, 1, 1, 1, 1, 1, 1, 1, 1, 1, 1, 1, 1, 1, 1, 1, 1,\n",
              "        1, 1, 1, 1, 1, 1, 1, 1, 1, 1, 1, 1, 1, 1, 1, 1, 1, 1, 1, 1, 1, 1,\n",
              "        1, 1, 1, 1, 1, 1, 1, 1, 1, 1, 1, 1, 2, 2, 2, 2, 2, 2, 2, 2, 2, 2,\n",
              "        2, 2, 2, 2, 2, 2, 2, 2, 2, 2, 2, 2, 2, 2, 2, 2, 2, 2, 2, 2, 2, 2,\n",
              "        2, 2, 2, 2, 2, 2, 2, 2, 2, 2, 2, 2, 2, 2, 2, 2, 2, 2]),\n",
              " 'target_names': array(['setosa', 'versicolor', 'virginica'], dtype='<U10')}"
            ]
          },
          "metadata": {},
          "execution_count": 4
        }
      ]
    },
    {
      "cell_type": "markdown",
      "source": [
        "# Defining the Model"
      ],
      "metadata": {
        "id": "7H8AqwCua5Mi"
      }
    },
    {
      "cell_type": "code",
      "source": [
        "network = models.Sequential()\n",
        "network.add(layers.Dense(3, activation='sigmoid', input_shape=(4,)))"
      ],
      "metadata": {
        "id": "sUs2GYrIUPy_"
      },
      "execution_count": 5,
      "outputs": []
    },
    {
      "cell_type": "markdown",
      "source": [
        "# Compiling the Model"
      ],
      "metadata": {
        "id": "elAvFcF0a_5C"
      }
    },
    {
      "cell_type": "code",
      "source": [
        "adam_optimizer = optimizers.Adam(learning_rate=0.1)\n",
        "\n",
        "network.compile(optimizer=adam_optimizer,\n",
        "                loss='categorical_crossentropy',\n",
        "                metrics=['accuracy'])"
      ],
      "metadata": {
        "id": "oiFrHUOVa_Di"
      },
      "execution_count": 6,
      "outputs": []
    },
    {
      "cell_type": "markdown",
      "source": [
        "# Separating Training and Testing Data"
      ],
      "metadata": {
        "id": "GrDbr5_BbCMA"
      }
    },
    {
      "cell_type": "code",
      "source": [
        "X_train, X_test, y_train, y_test = train_test_split(X, y, test_size=0.2, stratify=y, random_state=42)\n",
        "\n",
        "train_labels = to_categorical(y_train)\n",
        "test_labels = to_categorical(y_test)\n"
      ],
      "metadata": {
        "id": "CeGd40-xVEex"
      },
      "execution_count": 17,
      "outputs": []
    },
    {
      "cell_type": "markdown",
      "source": [
        "# Training the Model"
      ],
      "metadata": {
        "id": "rFiyJuBVbKFj"
      }
    },
    {
      "cell_type": "code",
      "source": [
        "try:\n",
        "  network = models.load_model('/content/sample_data/mlp')\n",
        "except:\n",
        "  network.fit(X_train, train_labels, epochs=20, batch_size=1)"
      ],
      "metadata": {
        "colab": {
          "base_uri": "https://localhost:8080/"
        },
        "id": "XSc0VHZgVcsZ",
        "outputId": "b2334a52-b1f1-4473-f504-74689b2d3131"
      },
      "execution_count": 19,
      "outputs": [
        {
          "output_type": "stream",
          "name": "stdout",
          "text": [
            "Epoch 1/20\n",
            "120/120 [==============================] - 1s 2ms/step - loss: 1.8435 - accuracy: 0.9000\n",
            "Epoch 2/20\n",
            "120/120 [==============================] - 0s 2ms/step - loss: 2.8620 - accuracy: 0.8833\n",
            "Epoch 3/20\n",
            "120/120 [==============================] - 0s 2ms/step - loss: 0.8125 - accuracy: 0.9583\n",
            "Epoch 4/20\n",
            "120/120 [==============================] - 0s 2ms/step - loss: 1.1646 - accuracy: 0.9250\n",
            "Epoch 5/20\n",
            "120/120 [==============================] - 0s 2ms/step - loss: 5.6979 - accuracy: 0.8500\n",
            "Epoch 6/20\n",
            "120/120 [==============================] - 0s 2ms/step - loss: 1.9402 - accuracy: 0.8917\n",
            "Epoch 7/20\n",
            "120/120 [==============================] - 0s 2ms/step - loss: 1.8128 - accuracy: 0.9083\n",
            "Epoch 8/20\n",
            "120/120 [==============================] - 0s 2ms/step - loss: 3.0701 - accuracy: 0.8667\n",
            "Epoch 9/20\n",
            "120/120 [==============================] - 0s 2ms/step - loss: 0.4072 - accuracy: 0.9417\n",
            "Epoch 10/20\n",
            "120/120 [==============================] - 0s 2ms/step - loss: 1.3540 - accuracy: 0.9250\n",
            "Epoch 11/20\n",
            "120/120 [==============================] - 0s 2ms/step - loss: 2.1531 - accuracy: 0.8917\n",
            "Epoch 12/20\n",
            "120/120 [==============================] - 0s 2ms/step - loss: 2.2773 - accuracy: 0.9000\n",
            "Epoch 13/20\n",
            "120/120 [==============================] - 0s 2ms/step - loss: 4.2922 - accuracy: 0.8250\n",
            "Epoch 14/20\n",
            "120/120 [==============================] - 0s 2ms/step - loss: 1.5239 - accuracy: 0.9333\n",
            "Epoch 15/20\n",
            "120/120 [==============================] - 0s 2ms/step - loss: 1.2716 - accuracy: 0.9417\n",
            "Epoch 16/20\n",
            "120/120 [==============================] - 0s 2ms/step - loss: 1.4760 - accuracy: 0.9417\n",
            "Epoch 17/20\n",
            "120/120 [==============================] - 0s 2ms/step - loss: 1.6671 - accuracy: 0.9333\n",
            "Epoch 18/20\n",
            "120/120 [==============================] - 0s 2ms/step - loss: 3.3617 - accuracy: 0.8833\n",
            "Epoch 19/20\n",
            "120/120 [==============================] - 0s 2ms/step - loss: 5.3708 - accuracy: 0.8500\n",
            "Epoch 20/20\n",
            "120/120 [==============================] - 0s 2ms/step - loss: 1.4398 - accuracy: 0.9000\n"
          ]
        }
      ]
    },
    {
      "cell_type": "markdown",
      "source": [
        "# Evaluating the Model with Test Data"
      ],
      "metadata": {
        "id": "NiGwwdlMbNyV"
      }
    },
    {
      "cell_type": "code",
      "source": [
        "test_loss, test_acc = network.evaluate(X_test, test_labels)"
      ],
      "metadata": {
        "colab": {
          "base_uri": "https://localhost:8080/"
        },
        "id": "JoMVeYXsYQD2",
        "outputId": "48579453-8403-4241-d0de-3c20cda638b6"
      },
      "execution_count": 24,
      "outputs": [
        {
          "output_type": "stream",
          "name": "stdout",
          "text": [
            "1/1 [==============================] - 0s 19ms/step - loss: 1.0212e-06 - accuracy: 1.0000\n"
          ]
        }
      ]
    },
    {
      "cell_type": "markdown",
      "source": [
        "# Save the model"
      ],
      "metadata": {
        "id": "K3cGPyeebS81"
      }
    },
    {
      "cell_type": "code",
      "source": [
        "network.save('/content/sample_data/mlp')"
      ],
      "metadata": {
        "colab": {
          "base_uri": "https://localhost:8080/"
        },
        "id": "_X6vqxsCZmAr",
        "outputId": "efc16fbf-7482-4e76-b2c8-32d2a9fc8851"
      },
      "execution_count": 21,
      "outputs": [
        {
          "output_type": "stream",
          "name": "stdout",
          "text": [
            "INFO:tensorflow:Assets written to: /content/sample_data/mlp/assets\n"
          ]
        }
      ]
    },
    {
      "cell_type": "code",
      "source": [
        "for layer in network.layers: print(layer.get_weights()[0].astype(int), layer.get_weights()[1].astype(int))"
      ],
      "metadata": {
        "colab": {
          "base_uri": "https://localhost:8080/"
        },
        "id": "xW_XAhI6go_D",
        "outputId": "b30e8a12-ddbb-435c-8afc-80b1bc8c3004"
      },
      "execution_count": 31,
      "outputs": [
        {
          "output_type": "stream",
          "name": "stdout",
          "text": [
            "[[  2   2  -1]\n",
            " [  5   0  -4]\n",
            " [ -6  -1   3]\n",
            " [-11  -4   7]] [  4   9 -12]\n"
          ]
        }
      ]
    }
  ]
}